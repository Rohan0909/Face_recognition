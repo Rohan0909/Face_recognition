{
 "cells": [
  {
   "cell_type": "code",
   "execution_count": 1,
   "id": "c6ea505f",
   "metadata": {},
   "outputs": [],
   "source": [
    "from tkinter import*\n",
    "from tkinter import ttk\n",
    "from PIL import Image\n",
    "from PIL import ImageTk\n",
    "from tkinter import messagebox\n",
    "import cv2\n",
    "import os\n",
    "import numpy as np\n",
    "\n",
    "def face_recog(self):\n",
    "        \n",
    "    def draw_boundary(img,classifier,scaleFactor,minNeighbors,color,text,clf,c=0):\n",
    "            img=cv2.VideoCapture(0)\n",
    "            gray_image=cv2.cvtColor(img,cv2.COLOR_BGR2GRAY)\n",
    "            features=classifier.detectMultiScale(gray_image,scaleFactor,minNeighbors)\n",
    "            \n",
    "            list=[]\n",
    "            coord=[]\n",
    "            for (x,y,w,h) in features:\n",
    "                cv2.rectangle(img,(x,y),(x+w,y+h),(0,255,0),3)\n",
    "                id,predict=clf.predict(gray_image[y:y+h,x:x+w])\n",
    "                confidence=int((100*(1-predict/300)))\n",
    "\n",
    "                if confidence>85:\n",
    "                    cv2.putText(img,'omakar',(x,y-55),cv2.FONT_HERSHEY_COMPLEX,0.8,(255,255,255),3)\n",
    "                    print(c)\n",
    "                    cv2.imshow(\"welcome to face recognition\",img)\n",
    "                    cv2.waitKey()\n",
    "        \n",
    "                else:\n",
    "                    cv2.rectangle(img,(x,y),(x+w,y+h),(0,0,255),3)\n",
    "                    cv2.putText(img,'Unknown face',(x,y-55),cv2.FONT_HERSHEY_COMPLEX,0.8,(255,255,255),3)\n",
    "\n",
    "                coord=[x,y,w,h]\n",
    "            \n",
    "            \n",
    "            return coord\n",
    "    \n",
    "    def recognize(img,clf,facecascade):\n",
    "            coord=draw_boundary(img,facecascade,1.1,10,(255,25,255),\"Face\",clf)\n",
    "            return img\n",
    "\n",
    "    facecascade=cv2.CascadeClassifier(cv2.data.haarcascades + \"haarcascade_frontalface_default.xml\")\n",
    "    clf=cv2.face.LBPHFaceRecognizer_create()\n",
    "    clf.read(\"../../../datasets/N_classifier.xml\")\n"
   ]
  },
  {
   "cell_type": "code",
   "execution_count": null,
   "id": "8652793a",
   "metadata": {},
   "outputs": [],
   "source": []
  }
 ],
 "metadata": {
  "kernelspec": {
   "display_name": "Python [conda env:dmsl19_ten]",
   "language": "python",
   "name": "conda-env-dmsl19_ten-py"
  },
  "language_info": {
   "codemirror_mode": {
    "name": "ipython",
    "version": 3
   },
   "file_extension": ".py",
   "mimetype": "text/x-python",
   "name": "python",
   "nbconvert_exporter": "python",
   "pygments_lexer": "ipython3",
   "version": "3.9.12"
  }
 },
 "nbformat": 4,
 "nbformat_minor": 5
}
